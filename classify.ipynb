{
 "cells": [
  {
   "cell_type": "markdown",
   "metadata": {},
   "source": [
    "# Classification\n",
    "### Step 1: resize/crop images\n",
    "Requires having run: `beescrape.py`\n",
    "Depends on yolov5 and `shutil`"
   ]
  },
  {
   "cell_type": "code",
   "execution_count": 29,
   "metadata": {},
   "outputs": [
    {
     "name": "stdout",
     "output_type": "stream",
     "text": [
      "Apis_mellifera errors 2285\n",
      "Bombus_impatiens errors 4523\n",
      "Bombus_auricomus errors 5274\n",
      "Bombus_bimaculatus errors 6377\n",
      "Bombus_griseocollis errors 8308\n",
      "Images moved. Errors suppresed:  8308\n"
     ]
    }
   ],
   "source": [
    "import os\n",
    "from shutil import copyfile\n",
    "import shutil\n",
    "\n",
    "# Directories\n",
    "DATA_DIR = '/home/wilber/Documents/RESEARCH/research/beespotter'\n",
    "OUT_DIR = '/m2docs/res/data'\n",
    "CROPPED_PATH = '/m2docs/res/cropped_imgs'\n",
    "\n",
    "%rm -R /m2docs/res/data/*\n",
    "\n",
    "# Args:\n",
    "VAL_SIZE = 100\n",
    "TEST_SIZE = 100\n",
    "MAX_IMGS = 1000\n",
    "\n",
    "# Species with >= 1000 images:\n",
    "labels = ['Apis_mellifera','Bombus_impatiens','Bombus_auricomus','Bombus_bimaculatus','Bombus_griseocollis']\n",
    "\n",
    "errnum = 0\n",
    "for label in labels:  # for each type of bee\n",
    "    classID = labels.index(label)\n",
    "    \n",
    "    input_path = os.path.join(DATA_DIR, label)\n",
    "    \n",
    "    # Attempt to create directories:\n",
    "    if not os.path.exists(OUT_DIR + '/train/' + label):\n",
    "        os.makedirs(OUT_DIR + '/train/' + label)\n",
    "    if not os.path.exists(OUT_DIR + '/test/' + label):\n",
    "        os.makedirs(OUT_DIR + '/test/' + label)\n",
    "    if not os.path.exists(OUT_DIR + '/validation/' + label):\n",
    "        os.makedirs(OUT_DIR + '/validation/' + label)\n",
    "        \n",
    "    train_path = os.path.join(OUT_DIR,'train/'+label+'/')\n",
    "    test_path  = os.path.join(OUT_DIR + 'test/'+label+'/')\n",
    "    valid_path = os.path.join(OUT_DIR,'validation/'+label+'/')\n",
    "    \n",
    "    index = 0\n",
    "    im_list = os.listdir(input_path)\n",
    "    for img in im_list:\n",
    "        try:\n",
    "            if index < VAL_SIZE:\n",
    "                copyfile(os.path.join(CROPPED_PATH,img), os.path.join(valid_path,img))\n",
    "            elif index < (VAL_SIZE + TEST_SIZE):\n",
    "                copyfile(os.path.join(CROPPED_PATH,img), os.path.join(test_path,img)) \n",
    "            elif index < (VAL_SIZE + TEST_SIZE + MAX_IMGS):\n",
    "                copyfile(os.path.join(CROPPED_PATH,img), os.path.join(train_path,img))\n",
    "            else:\n",
    "                break\n",
    "        except:\n",
    "            errnum += 1\n",
    "            index -= 1\n",
    "            pass\n",
    "        index += 1\n",
    "    print(label, \"errors\", errnum)\n",
    "    \n",
    "\n",
    "print(\"Images moved. Errors suppresed: \", errnum)\n"
   ]
  }
 ],
 "metadata": {
  "kernelspec": {
   "display_name": "Python 3",
   "language": "python",
   "name": "python3"
  },
  "language_info": {
   "codemirror_mode": {
    "name": "ipython",
    "version": 3
   },
   "file_extension": ".py",
   "mimetype": "text/x-python",
   "name": "python",
   "nbconvert_exporter": "python",
   "pygments_lexer": "ipython3",
   "version": "3.7.4"
  }
 },
 "nbformat": 4,
 "nbformat_minor": 2
}
